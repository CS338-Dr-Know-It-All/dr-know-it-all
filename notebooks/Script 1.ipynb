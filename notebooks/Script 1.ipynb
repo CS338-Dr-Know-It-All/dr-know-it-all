{
 "cells": [
  {
   "cell_type": "code",
   "execution_count": 5,
   "id": "238290de",
   "metadata": {},
   "outputs": [
    {
     "data": {
      "application/vnd.jupyter.widget-view+json": {
       "model_id": "5d594e3d596145c984e3cd4e3a59ed52",
       "version_major": 2,
       "version_minor": 0
      },
      "text/plain": [
       "Downloading:   0%|          | 0.00/167 [00:00<?, ?B/s]"
      ]
     },
     "metadata": {},
     "output_type": "display_data"
    },
    {
     "data": {
      "application/vnd.jupyter.widget-view+json": {
       "model_id": "efdc65da577d4dd59b9c1f2372922c78",
       "version_major": 2,
       "version_minor": 0
      },
      "text/plain": [
       "Downloading:   0%|          | 0.00/873 [00:00<?, ?B/s]"
      ]
     },
     "metadata": {},
     "output_type": "display_data"
    },
    {
     "data": {
      "application/vnd.jupyter.widget-view+json": {
       "model_id": "33633be12e244b3b8fe914225597dd7b",
       "version_major": 2,
       "version_minor": 0
      },
      "text/plain": [
       "Downloading:   0%|          | 0.00/779k [00:00<?, ?B/s]"
      ]
     },
     "metadata": {},
     "output_type": "display_data"
    },
    {
     "data": {
      "application/vnd.jupyter.widget-view+json": {
       "model_id": "1a36d536de664ebea387768a566cfb0c",
       "version_major": 2,
       "version_minor": 0
      },
      "text/plain": [
       "Downloading:   0%|          | 0.00/446k [00:00<?, ?B/s]"
      ]
     },
     "metadata": {},
     "output_type": "display_data"
    },
    {
     "data": {
      "application/vnd.jupyter.widget-view+json": {
       "model_id": "a4bf57f9600e4fdca68aad5e8a6bf030",
       "version_major": 2,
       "version_minor": 0
      },
      "text/plain": [
       "Downloading:   0%|          | 0.00/90.0 [00:00<?, ?B/s]"
      ]
     },
     "metadata": {},
     "output_type": "display_data"
    },
    {
     "data": {
      "application/vnd.jupyter.widget-view+json": {
       "model_id": "84f89d003d364191aeb870649b6e1b0f",
       "version_major": 2,
       "version_minor": 0
      },
      "text/plain": [
       "Downloading:   0%|          | 0.00/487M [00:00<?, ?B/s]"
      ]
     },
     "metadata": {},
     "output_type": "display_data"
    }
   ],
   "source": [
    "from transformers import AutoTokenizer, AutoModelForCausalLM\n",
    "\n",
    "from transformers import pipeline\n",
    "\n",
    "joetokenizer = AutoTokenizer.from_pretrained(\"huggingtweets/joebiden\")\n",
    "\n",
    "joemodel = AutoModelForCausalLM.from_pretrained(\"huggingtweets/joebiden\")\n",
    "\n",
    "donaldtokenizer = AutoTokenizer.from_pretrained(\"huggingtweets/realdonaldtrump\")\n",
    "\n",
    "donaldmodel = AutoModelForCausalLM.from_pretrained(\"huggingtweets/realdonaldtrump\")\n",
    "\n",
    "elontokenizer = AutoTokenizer.from_pretrained(\"huggingtweets/elonmusk\")\n",
    "\n",
    "elonmodel = AutoModelForCausalLM.from_pretrained(\"huggingtweets/elonmusk\")\n",
    "\n",
    "tstokenizer = AutoTokenizer.from_pretrained(\"huggingtweets/tswiftlyricsbot\")\n",
    "\n",
    "tsmodel = AutoModelForCausalLM.from_pretrained(\"huggingtweets/tswiftlyricsbot\")"
   ]
  },
  {
   "cell_type": "code",
   "execution_count": 6,
   "id": "20b61b2c",
   "metadata": {},
   "outputs": [
    {
     "name": "stderr",
     "output_type": "stream",
     "text": [
      "Setting `pad_token_id` to `eos_token_id`:50256 for open-end generation.\n",
      "Setting `pad_token_id` to `eos_token_id`:50256 for open-end generation.\n",
      "Setting `pad_token_id` to `eos_token_id`:50256 for open-end generation.\n",
      "Setting `pad_token_id` to `eos_token_id`:50256 for open-end generation.\n",
      "Setting `pad_token_id` to `eos_token_id`:50256 for open-end generation.\n",
      "Setting `pad_token_id` to `eos_token_id`:50256 for open-end generation.\n",
      "Setting `pad_token_id` to `eos_token_id`:50256 for open-end generation.\n",
      "Setting `pad_token_id` to `eos_token_id`:50256 for open-end generation.\n",
      "Setting `pad_token_id` to `eos_token_id`:50256 for open-end generation.\n",
      "Setting `pad_token_id` to `eos_token_id`:50256 for open-end generation.\n",
      "Setting `pad_token_id` to `eos_token_id`:50256 for open-end generation.\n",
      "Setting `pad_token_id` to `eos_token_id`:50256 for open-end generation.\n",
      "Setting `pad_token_id` to `eos_token_id`:50256 for open-end generation.\n",
      "Setting `pad_token_id` to `eos_token_id`:50256 for open-end generation.\n",
      "Setting `pad_token_id` to `eos_token_id`:50256 for open-end generation.\n",
      "Setting `pad_token_id` to `eos_token_id`:50256 for open-end generation.\n",
      "Setting `pad_token_id` to `eos_token_id`:50256 for open-end generation.\n",
      "Setting `pad_token_id` to `eos_token_id`:50256 for open-end generation.\n",
      "Setting `pad_token_id` to `eos_token_id`:50256 for open-end generation.\n",
      "Setting `pad_token_id` to `eos_token_id`:50256 for open-end generation.\n"
     ]
    }
   ],
   "source": [
    "prompt = \"My dream is\"\n",
    "for i in range(5):\n",
    "\n",
    "    generator1 = pipeline('text-generation',\n",
    "                     model=joemodel, tokenizer=joetokenizer)\n",
    "    text = generator1(prompt, num_return_sequences=5)\n",
    "    a = text[0]['generated_text']\n",
    "    b = a.split(prompt)\n",
    "    c = b[1].split(' ')\n",
    "    prompt = prompt + ' ' + c[1]\n",
    "\n",
    "    generator2 = pipeline('text-generation',\n",
    "                     model=donaldmodel, tokenizer=donaldtokenizer)\n",
    "    text = generator2(prompt, num_return_sequences=5)\n",
    "    a = text[0]['generated_text']\n",
    "    b = a.split(prompt)\n",
    "    c = b[1].split(' ')\n",
    "    prompt = prompt + ' ' + c[1]\n",
    "\n",
    "    generator3 = pipeline('text-generation',\n",
    "                     model=elonmodel, tokenizer=elontokenizer)\n",
    "    text = generator3(prompt, num_return_sequences=5)\n",
    "    a = text[0]['generated_text']\n",
    "    b = a.split(prompt)\n",
    "    c = b[1].split(' ')\n",
    "    prompt = prompt + ' ' + c[1]\n",
    "    \n",
    "    generator4 = pipeline('text-generation',\n",
    "                     model=tsmodel, tokenizer=tstokenizer)\n",
    "    text = generator4(prompt, num_return_sequences=5)\n",
    "    a = text[0]['generated_text']\n",
    "    b = a.split(prompt)\n",
    "    c = b[1].split(' ')\n",
    "    prompt = prompt + ' ' + c[1]"
   ]
  },
  {
   "cell_type": "code",
   "execution_count": 7,
   "id": "586a010f",
   "metadata": {},
   "outputs": [
    {
     "data": {
      "text/plain": [
       "'My dream is to have every penny of my life in the hands of a president who will pay no price for my'"
      ]
     },
     "execution_count": 7,
     "metadata": {},
     "output_type": "execute_result"
    }
   ],
   "source": [
    "prompt"
   ]
  }
 ],
 "metadata": {
  "kernelspec": {
   "display_name": "Python 3",
   "language": "python",
   "name": "python3"
  },
  "language_info": {
   "codemirror_mode": {
    "name": "ipython",
    "version": 3
   },
   "file_extension": ".py",
   "mimetype": "text/x-python",
   "name": "python",
   "nbconvert_exporter": "python",
   "pygments_lexer": "ipython3",
   "version": "3.8.8"
  }
 },
 "nbformat": 4,
 "nbformat_minor": 5
}
