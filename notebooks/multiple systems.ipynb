{
 "cells": [
  {
   "cell_type": "code",
   "execution_count": 8,
   "id": "238290de",
   "metadata": {},
   "outputs": [
    {
     "data": {
      "application/vnd.jupyter.widget-view+json": {
       "model_id": "5fb020fcba7644ddaca50e9a6a7bf479",
       "version_major": 2,
       "version_minor": 0
      },
      "text/plain": [
       "Downloading:   0%|          | 0.00/167 [00:00<?, ?B/s]"
      ]
     },
     "metadata": {},
     "output_type": "display_data"
    },
    {
     "data": {
      "application/vnd.jupyter.widget-view+json": {
       "model_id": "c1d9e64f76d14aec9f85431f3fdcc26a",
       "version_major": 2,
       "version_minor": 0
      },
      "text/plain": [
       "Downloading:   0%|          | 0.00/873 [00:00<?, ?B/s]"
      ]
     },
     "metadata": {},
     "output_type": "display_data"
    },
    {
     "data": {
      "application/vnd.jupyter.widget-view+json": {
       "model_id": "6056a94236184293a5f4044855a79db9",
       "version_major": 2,
       "version_minor": 0
      },
      "text/plain": [
       "Downloading:   0%|          | 0.00/779k [00:00<?, ?B/s]"
      ]
     },
     "metadata": {},
     "output_type": "display_data"
    },
    {
     "data": {
      "application/vnd.jupyter.widget-view+json": {
       "model_id": "5ebd208fa44c429a81828968932b2a41",
       "version_major": 2,
       "version_minor": 0
      },
      "text/plain": [
       "Downloading:   0%|          | 0.00/446k [00:00<?, ?B/s]"
      ]
     },
     "metadata": {},
     "output_type": "display_data"
    },
    {
     "data": {
      "application/vnd.jupyter.widget-view+json": {
       "model_id": "5dad4fd0190f4882ac7dccffffd9dfe3",
       "version_major": 2,
       "version_minor": 0
      },
      "text/plain": [
       "Downloading:   0%|          | 0.00/90.0 [00:00<?, ?B/s]"
      ]
     },
     "metadata": {},
     "output_type": "display_data"
    },
    {
     "data": {
      "application/vnd.jupyter.widget-view+json": {
       "model_id": "bd95d28609c84dc9a41638a5ee12cfca",
       "version_major": 2,
       "version_minor": 0
      },
      "text/plain": [
       "Downloading:   0%|          | 0.00/487M [00:00<?, ?B/s]"
      ]
     },
     "metadata": {},
     "output_type": "display_data"
    }
   ],
   "source": [
    "from transformers import AutoTokenizer, AutoModelForCausalLM\n",
    "\n",
    "from transformers import pipeline\n",
    "\n",
    "\n",
    "\n",
    "joetokenizer = AutoTokenizer.from_pretrained(\"huggingtweets/joebiden\")\n",
    "\n",
    "joemodel = AutoModelForCausalLM.from_pretrained(\"huggingtweets/joebiden\")\n",
    "\n",
    "donaldtokenizer = AutoTokenizer.from_pretrained(\"huggingtweets/realdonaldtrump\")\n",
    "\n",
    "donaldmodel = AutoModelForCausalLM.from_pretrained(\"huggingtweets/realdonaldtrump\")\n",
    "\n",
    "elontokenizer = AutoTokenizer.from_pretrained(\"huggingtweets/elonmusk\")\n",
    "\n",
    "elonmodel = AutoModelForCausalLM.from_pretrained(\"huggingtweets/elonmusk\")\n",
    "\n",
    "tstokenizer = AutoTokenizer.from_pretrained(\"huggingtweets/tswiftlyricsbot\")\n",
    "\n",
    "tsmodel = AutoModelForCausalLM.from_pretrained(\"huggingtweets/tswiftlyricsbot\")\n",
    "\n",
    "buddhatokenizer = AutoTokenizer.from_pretrained(\"huggingtweets/_buddha_quotes\")\n",
    "\n",
    "buddhamodel = AutoModelForCausalLM.from_pretrained(\"huggingtweets/_buddha_quotes\")"
   ]
  },
  {
   "cell_type": "code",
   "execution_count": 59,
   "id": "20b61b2c",
   "metadata": {},
   "outputs": [
    {
     "name": "stderr",
     "output_type": "stream",
     "text": [
      "Setting `pad_token_id` to `eos_token_id`:50256 for open-end generation.\n",
      "Setting `pad_token_id` to `eos_token_id`:50256 for open-end generation.\n",
      "Setting `pad_token_id` to `eos_token_id`:50256 for open-end generation.\n",
      "Setting `pad_token_id` to `eos_token_id`:50256 for open-end generation.\n",
      "Setting `pad_token_id` to `eos_token_id`:50256 for open-end generation.\n",
      "Setting `pad_token_id` to `eos_token_id`:50256 for open-end generation.\n",
      "Setting `pad_token_id` to `eos_token_id`:50256 for open-end generation.\n",
      "Setting `pad_token_id` to `eos_token_id`:50256 for open-end generation.\n",
      "Setting `pad_token_id` to `eos_token_id`:50256 for open-end generation.\n",
      "Setting `pad_token_id` to `eos_token_id`:50256 for open-end generation.\n",
      "Setting `pad_token_id` to `eos_token_id`:50256 for open-end generation.\n",
      "Setting `pad_token_id` to `eos_token_id`:50256 for open-end generation.\n",
      "Setting `pad_token_id` to `eos_token_id`:50256 for open-end generation.\n",
      "Setting `pad_token_id` to `eos_token_id`:50256 for open-end generation.\n",
      "Setting `pad_token_id` to `eos_token_id`:50256 for open-end generation.\n",
      "Setting `pad_token_id` to `eos_token_id`:50256 for open-end generation.\n",
      "Setting `pad_token_id` to `eos_token_id`:50256 for open-end generation.\n",
      "Setting `pad_token_id` to `eos_token_id`:50256 for open-end generation.\n",
      "Setting `pad_token_id` to `eos_token_id`:50256 for open-end generation.\n",
      "Setting `pad_token_id` to `eos_token_id`:50256 for open-end generation.\n",
      "Setting `pad_token_id` to `eos_token_id`:50256 for open-end generation.\n",
      "Setting `pad_token_id` to `eos_token_id`:50256 for open-end generation.\n"
     ]
    }
   ],
   "source": [
    "prompt = \"Why are cheetahs so fast?\"\n",
    "for i in range(20):\n",
    "\n",
    "    generator1 = pipeline('text-generation',\n",
    "                     model=joemodel, tokenizer=joetokenizer)\n",
    "    text = generator1(prompt, num_return_sequences=5)\n",
    "    rand_num = random.randint(0,4)\n",
    "    a = text[rand_num]['generated_text']\n",
    "    b = a.split(prompt)\n",
    "    if len(b) <= 2:\n",
    "        rand_num = random.randint(0,4)\n",
    "        a = text[rand_num]['generated_text']\n",
    "        b = a.split(prompt)\n",
    "    c = b[1].split(' ')\n",
    "    try:\n",
    "        prompt = prompt + ' ' + c[1]\n",
    "    except:\n",
    "        break\n",
    "\n",
    "    generator2 = pipeline('text-generation',\n",
    "                     model=donaldmodel, tokenizer=donaldtokenizer)\n",
    "    text = generator2(prompt, num_return_sequences=5)\n",
    "    rand_num = random.randint(0,4)\n",
    "    a = text[rand_num]['generated_text']\n",
    "    b = a.split(prompt)\n",
    "    if len(b) <= 2:\n",
    "        rand_num = random.randint(0,4)\n",
    "        a = text[rand_num]['generated_text']\n",
    "        b = a.split(prompt)\n",
    "    c = b[1].split(' ')\n",
    "    try:\n",
    "        prompt = prompt + ' ' + c[1]\n",
    "    except:\n",
    "        break\n",
    "\n",
    "    generator3 = pipeline('text-generation',\n",
    "                     model=elonmodel, tokenizer=elontokenizer)\n",
    "    text = generator3(prompt, num_return_sequences=5)\n",
    "    rand_num = random.randint(0,4)\n",
    "    a = text[rand_num]['generated_text']\n",
    "    b = a.split(prompt)\n",
    "    if len(b) <= 2:\n",
    "        rand_num = random.randint(0,4)\n",
    "        a = text[rand_num]['generated_text']\n",
    "        b = a.split(prompt)\n",
    "    c = b[1].split(' ')\n",
    "    try:\n",
    "        prompt = prompt + ' ' + c[1]\n",
    "    except:\n",
    "        break\n",
    "    \n",
    "    generator4 = pipeline('text-generation',\n",
    "                     model=tsmodel, tokenizer=tstokenizer)\n",
    "    text = generator4(prompt, num_return_sequences=5)\n",
    "    rand_num = random.randint(0,4)\n",
    "    a = text[rand_num]['generated_text']\n",
    "    b = a.split(prompt)\n",
    "    if len(b) <= 2:\n",
    "        rand_num = random.randint(0,4)\n",
    "        a = text[rand_num]['generated_text']\n",
    "        b = a.split(prompt)\n",
    "    c = b[1].split(' ')\n",
    "    try:\n",
    "        prompt = prompt + ' ' + c[1]\n",
    "    except:\n",
    "        break\n",
    "    \n",
    "    generator5 = pipeline('text-generation',\n",
    "                     model=buddhamodel, tokenizer=buddhatokenizer)\n",
    "    text = generator5(prompt, num_return_sequences=5)\n",
    "    rand_num = random.randint(0,4)\n",
    "    a = text[rand_num]['generated_text']\n",
    "    b = a.split(prompt)\n",
    "    if len(b) <= 2:\n",
    "        rand_num = random.randint(0,4)\n",
    "        a = text[rand_num]['generated_text']\n",
    "        b = a.split(prompt)\n",
    "    c = b[1].split(' ')\n",
    "    try:\n",
    "        prompt = prompt + ' ' + c[1]\n",
    "    except:\n",
    "        break"
   ]
  }
 ],
 "metadata": {
  "kernelspec": {
   "display_name": "Python 3",
   "language": "python",
   "name": "python3"
  },
  "language_info": {
   "codemirror_mode": {
    "name": "ipython",
    "version": 3
   },
   "file_extension": ".py",
   "mimetype": "text/x-python",
   "name": "python",
   "nbconvert_exporter": "python",
   "pygments_lexer": "ipython3",
   "version": "3.8.8"
  }
 },
 "nbformat": 4,
 "nbformat_minor": 5
}
